{
 "cells": [
  {
   "cell_type": "markdown",
   "metadata": {},
   "source": [
    "# Artifact Sub Stat Analysis\n",
    "#### Author: [Rayla Kurosaki](https://github.com/rkp1503)"
   ]
  },
  {
   "cell_type": "code",
   "execution_count": 1,
   "metadata": {},
   "outputs": [],
   "source": [
    "import json\n",
    "\n",
    "from constructors.artifact import ArtifactPiece\n",
    "import artifact_sub_stat.sub_stat_single as sss\n",
    "import artifact_sub_stat.sub_stat_double as ssd\n",
    "import artifact_sub_stat.sub_stat_triple as sst\n",
    "import artifact_sub_stat.sub_stat_quad as ssq\n",
    "\n",
    "FUNCS_DICT: dict = {\n",
    "    \"Single\": sss,\n",
    "    \"Double\": ssd,\n",
    "    \"Triple\": sst,\n",
    "    # \"Quad\": ssq\n",
    "}\n",
    "\n",
    "################################################################################\n",
    "\n",
    "with open(\"assets/data/sub_stats.json\", \"r\") as file:\n",
    "    json_data: dict = json.load(file)\n",
    "    pass\n",
    "\n",
    "HP, ATK, DEF, HPp, ATKp, DEFp, EM, ER, CR, CD = list(json_data.keys())"
   ]
  },
  {
   "cell_type": "code",
   "execution_count": 2,
   "metadata": {},
   "outputs": [],
   "source": [
    "# # Neuvillette Circlet\n",
    "# level: int = 20\n",
    "# sub_stat_dict: dict[str, float] = {\n",
    "#     HP: 448,\n",
    "#     ER: 11.7,\n",
    "#     CD: 11.7,\n",
    "#     HPp: 9.3\n",
    "# }"
   ]
  },
  {
   "cell_type": "code",
   "execution_count": 27,
   "metadata": {},
   "outputs": [],
   "source": [
    "level: int = 20\n",
    "sub_stat_dict: dict[str, float] = {\n",
    "    ATKp: 11.1,\n",
    "    ER: 13,\n",
    "    CD: 11.7,\n",
    "    CR: 9.3\n",
    "}"
   ]
  },
  {
   "cell_type": "code",
   "execution_count": 28,
   "metadata": {},
   "outputs": [],
   "source": [
    "sub_stats: list[str] = list(sub_stat_dict.keys())\n",
    "sub_stat_values: list[float] = list(sub_stat_dict.values())\n",
    "\n",
    "artifact_piece: ArtifactPiece = ArtifactPiece(level, sub_stats, sub_stat_values)\n",
    "\n",
    "if level < 20:\n",
    "    rolls: list[list[float]] = artifact_piece.simulate_all_possible_rolls(json_data)\n",
    "    pass"
   ]
  },
  {
   "cell_type": "markdown",
   "metadata": {},
   "source": [
    "### Sub Stat Ratings"
   ]
  },
  {
   "cell_type": "code",
   "execution_count": 29,
   "metadata": {},
   "outputs": [
    {
     "name": "stdout",
     "output_type": "stream",
     "text": [
      "| Single Sub Stat  |   Double Sub Stat    |     Triple Sub Stat      |\n",
      "|------------------+----------------------+--------------------------|\n",
      "| CR%: C (40.0%)   | ER%/CR%: B (62.86%)  | ATK%/ER%/CR%: A (78.75%) |\n",
      "| ER%: D (33.33%)  | ATK%/CR%: B (61.43%) | ER%/CD%/CR%: A (73.75%)  |\n",
      "| ATK%: D (31.67%) | ATK%/ER%: B (55.71%) | ATK%/CD%/CR%: A (72.5%)  |\n",
      "| CD%: D (25.0%)   | CD%/CR%: B (55.71%)  | ATK%/ER%/CD%: B (67.5%)  |\n",
      "|                  | ER%/CD%: C (50.0%)   |                          |\n",
      "|                  | ATK%/CD%: C (48.57%) |                          |\n"
     ]
    }
   ],
   "source": [
    "if level == 20:\n",
    "    artifact_piece.full_evaluation(json_data)\n",
    "    pass\n",
    "else:\n",
    "    for (string, func) in FUNCS_DICT.items():\n",
    "        print(f\"{string} Sub Stat Probabilities:\")\n",
    "        func.compute_probabilities(json_data, sub_stats, rolls)\n",
    "        pass\n",
    "    pass"
   ]
  }
 ],
 "metadata": {
  "kernelspec": {
   "display_name": ".venv",
   "language": "python",
   "name": "python3"
  },
  "language_info": {
   "codemirror_mode": {
    "name": "ipython",
    "version": 3
   },
   "file_extension": ".py",
   "mimetype": "text/x-python",
   "name": "python",
   "nbconvert_exporter": "python",
   "pygments_lexer": "ipython3",
   "version": "3.12.3"
  }
 },
 "nbformat": 4,
 "nbformat_minor": 2
}
