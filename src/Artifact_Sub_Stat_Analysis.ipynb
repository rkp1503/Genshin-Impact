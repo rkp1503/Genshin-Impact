{
 "cells": [
  {
   "cell_type": "markdown",
   "metadata": {},
   "source": [
    "# Artifact Sub Stat Analysis\n",
    "#### Author: [Rayla Kurosaki](https://github.com/rkp1503)"
   ]
  },
  {
   "cell_type": "code",
   "execution_count": 25,
   "metadata": {},
   "outputs": [],
   "source": [
    "import json\n",
    "\n",
    "from constructors.artifact import ArtifactPiece\n",
    "import artifact_sub_stat.sub_stat_single as sss\n",
    "import artifact_sub_stat.sub_stat_double as ssd\n",
    "import artifact_sub_stat.sub_stat_triple as sst\n",
    "import artifact_sub_stat.sub_stat_quad as ssq\n",
    "\n",
    "################################################################################\n",
    "\n",
    "with open(\"assets/data/sub_stats.json\", \"r\") as file:\n",
    "    json_data: dict = json.load(file)\n",
    "    pass\n",
    "\n",
    "HP, ATK, DEF, HPp, ATKp, DEFp, EM, ER, CR, CD = list(json_data.keys())"
   ]
  },
  {
   "cell_type": "code",
   "execution_count": 26,
   "metadata": {},
   "outputs": [],
   "source": [
    "# # Neuvillette Circlet\n",
    "# level: int = 20\n",
    "# sub_stat_dict: dict[str, float] = {\n",
    "#     HP: 448,\n",
    "#     ER: 11.7,\n",
    "#     CD: 11.7,\n",
    "#     HPp: 9.3\n",
    "# }"
   ]
  },
  {
   "cell_type": "code",
   "execution_count": 27,
   "metadata": {},
   "outputs": [],
   "source": [
    "level: int = 20\n",
    "sub_stat_dict: dict[str, float] = {\n",
    "    ATKp: 11.1,\n",
    "    ER: 13,\n",
    "    CD: 11.7,\n",
    "    CR: 9.3\n",
    "}"
   ]
  },
  {
   "cell_type": "code",
   "execution_count": 28,
   "metadata": {},
   "outputs": [],
   "source": [
    "sub_stats: list[str] = list(sub_stat_dict.keys())\n",
    "sub_stat_values: list[float] = list(sub_stat_dict.values())\n",
    "\n",
    "artifact_piece: ArtifactPiece = ArtifactPiece(level, sub_stats, sub_stat_values)\n",
    "\n",
    "if level < 20:\n",
    "    rolls: list[list[float]] = artifact_piece.simulate_all_possible_rolls(json_data)\n",
    "    pass"
   ]
  },
  {
   "cell_type": "markdown",
   "metadata": {},
   "source": [
    "### Single Sub Stat Rating"
   ]
  },
  {
   "cell_type": "code",
   "execution_count": 29,
   "metadata": {},
   "outputs": [
    {
     "name": "stdout",
     "output_type": "stream",
     "text": [
      "Single Sub Stat Ratings:\n",
      "\tCR%: C (40.0%)\n",
      "\tER%: D (33.33%)\n",
      "\tATK%: D (31.67%)\n",
      "\tCD%: D (25.0%)\n"
     ]
    }
   ],
   "source": [
    "num_sub_stats: int = 1\n",
    "if level == 20:\n",
    "    artifact_piece.evaluate(json_data, n=num_sub_stats)\n",
    "    pass\n",
    "else:\n",
    "    sss.compute_probabilities(json_data, sub_stats, rolls)\n",
    "    pass"
   ]
  },
  {
   "cell_type": "markdown",
   "metadata": {},
   "source": [
    "### Double Sub Stat Rating"
   ]
  },
  {
   "cell_type": "code",
   "execution_count": 30,
   "metadata": {},
   "outputs": [
    {
     "name": "stdout",
     "output_type": "stream",
     "text": [
      "Double Sub Stat Ratings:\n",
      "\tER%/CR%: B (62.86%)\n",
      "\tATK%/CR%: B (61.43%)\n",
      "\tATK%/ER%: B (55.71%)\n",
      "\tCD%/CR%: B (55.71%)\n",
      "\tER%/CD%: C (50.0%)\n",
      "\tATK%/CD%: C (48.57%)\n"
     ]
    }
   ],
   "source": [
    "num_sub_stats: int = 2\n",
    "if level == 20:\n",
    "    artifact_piece.evaluate(json_data, n=num_sub_stats)\n",
    "    pass\n",
    "else:\n",
    "    ssd.compute_probabilities(json_data, sub_stats, rolls)\n",
    "    pass"
   ]
  },
  {
   "cell_type": "markdown",
   "metadata": {},
   "source": [
    "### Triple Sub Stat Rating"
   ]
  },
  {
   "cell_type": "code",
   "execution_count": 31,
   "metadata": {},
   "outputs": [
    {
     "name": "stdout",
     "output_type": "stream",
     "text": [
      "Triple Sub Stat Ratings:\n",
      "\tATK%/ER%/CR%: A (78.75%)\n",
      "\tER%/CD%/CR%: A (73.75%)\n",
      "\tATK%/CD%/CR%: A (72.5%)\n",
      "\tATK%/ER%/CD%: B (67.5%)\n"
     ]
    }
   ],
   "source": [
    "num_sub_stats: int = 3\n",
    "if level == 20:\n",
    "    artifact_piece.evaluate(json_data, n=num_sub_stats)\n",
    "    pass\n",
    "else:\n",
    "    sst.compute_probabilities(json_data, sub_stats, rolls)\n",
    "    pass"
   ]
  },
  {
   "cell_type": "markdown",
   "metadata": {},
   "source": [
    "### Quad Sub Stat Rating"
   ]
  },
  {
   "cell_type": "code",
   "execution_count": 32,
   "metadata": {},
   "outputs": [],
   "source": [
    "# num_sub_stats: int = 4\n",
    "# if level == 20:\n",
    "#     artifact_piece.evaluate(json_data, n=num_sub_stats)\n",
    "#     pass\n",
    "# else:\n",
    "#     ssq.compute_probabilities(json_data, sub_stats, rolls)\n",
    "#     pass"
   ]
  }
 ],
 "metadata": {
  "kernelspec": {
   "display_name": ".venv",
   "language": "python",
   "name": "python3"
  },
  "language_info": {
   "codemirror_mode": {
    "name": "ipython",
    "version": 3
   },
   "file_extension": ".py",
   "mimetype": "text/x-python",
   "name": "python",
   "nbconvert_exporter": "python",
   "pygments_lexer": "ipython3",
   "version": "3.12.3"
  }
 },
 "nbformat": 4,
 "nbformat_minor": 2
}
