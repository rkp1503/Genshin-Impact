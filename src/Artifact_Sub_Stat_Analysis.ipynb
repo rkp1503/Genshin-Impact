{
 "cells": [
  {
   "cell_type": "markdown",
   "metadata": {},
   "source": [
    "# Artifact Sub Stat Analysis\n",
    "#### Author: [Rayla Kurosaki](https://github.com/rkp1503)"
   ]
  },
  {
   "cell_type": "code",
   "execution_count": 1,
   "metadata": {},
   "outputs": [],
   "source": [
    "import json\n",
    "\n",
    "from constructors.artifact import ArtifactPiece\n",
    "import artifact_sub_stat.sub_stat_single as sss\n",
    "import artifact_sub_stat.sub_stat_double as ssd\n",
    "import artifact_sub_stat.sub_stat_triple as sst\n",
    "import artifact_sub_stat.sub_stat_quad as ssq\n",
    "\n",
    "################################################################################\n",
    "\n",
    "with open(\"assets/data/sub_stats.json\", \"r\") as file:\n",
    "    json_data: dict = json.load(file)\n",
    "    pass\n",
    "\n",
    "HP, ATK, DEF, HPp, ATKp, DEFp, EM, ER, CR, CD = [stat for stat in json_data.keys()]"
   ]
  },
  {
   "cell_type": "code",
   "execution_count": 2,
   "metadata": {},
   "outputs": [],
   "source": [
    "level: int = 20\n",
    "sub_stats: list[str] = [\n",
    "    CR, CD, ER, EM\n",
    "]\n",
    "sub_stat_values: list[float] = [\n",
    "    3.89*(1+1), 7.77*(1+4), 6.48*(1+0), 23.31*(1+0)\n",
    "]\n",
    "\n",
    "artifact_piece: ArtifactPiece = ArtifactPiece(level, sub_stats, sub_stat_values)\n",
    "\n",
    "if level < 20:\n",
    "    rolls: list[list[float]] = artifact_piece.simulate_all_possible_rolls(json_data)\n",
    "    pass"
   ]
  },
  {
   "cell_type": "markdown",
   "metadata": {},
   "source": [
    "### Single Sub Stat Rating"
   ]
  },
  {
   "cell_type": "code",
   "execution_count": 3,
   "metadata": {},
   "outputs": [
    {
     "name": "stdout",
     "output_type": "stream",
     "text": [
      "Single Sub Stat Ratings:\n",
      "\tCD%: S (83.33%)\n",
      "\tCR%: D (33.33%)\n",
      "\tER%: F (16.67%)\n",
      "\tEM: F (16.67%)\n"
     ]
    }
   ],
   "source": [
    "num_sub_stats: int = 1\n",
    "if level == 20:\n",
    "    artifact_piece.evaluate(json_data, n=num_sub_stats)\n",
    "    pass\n",
    "else:\n",
    "    sss.compute_probabilities(json_data, sub_stats, rolls)\n",
    "    pass"
   ]
  },
  {
   "cell_type": "markdown",
   "metadata": {},
   "source": [
    "### Double Sub Stat Rating"
   ]
  },
  {
   "cell_type": "code",
   "execution_count": 4,
   "metadata": {},
   "outputs": [
    {
     "name": "stdout",
     "output_type": "stream",
     "text": [
      "Double Sub Stat Ratings:\n",
      "\tCR%/CD%: S+ (100.0%)\n",
      "\tCD%/ER%: S (85.71%)\n",
      "\tCD%/EM: S (85.71%)\n",
      "\tCR%/ER%: C (42.86%)\n",
      "\tCR%/EM: C (42.86%)\n",
      "\tER%/EM: F (28.57%)\n"
     ]
    }
   ],
   "source": [
    "num_sub_stats: int = 2\n",
    "if level == 20:\n",
    "    artifact_piece.evaluate(json_data, n=num_sub_stats)\n",
    "    pass\n",
    "else:\n",
    "    ssd.compute_probabilities(json_data, sub_stats, rolls)\n",
    "    pass"
   ]
  },
  {
   "cell_type": "markdown",
   "metadata": {},
   "source": [
    "### Triple Sub Stat Rating"
   ]
  },
  {
   "cell_type": "code",
   "execution_count": 5,
   "metadata": {},
   "outputs": [
    {
     "name": "stdout",
     "output_type": "stream",
     "text": [
      "Triple Sub Stat Ratings:\n",
      "\tCR%/CD%/ER%: S+ (100.0%)\n",
      "\tCR%/CD%/EM: S+ (100.0%)\n",
      "\tCD%/ER%/EM: S (87.5%)\n",
      "\tCR%/ER%/EM: C (50.0%)\n"
     ]
    }
   ],
   "source": [
    "num_sub_stats: int = 3\n",
    "if level == 20:\n",
    "    artifact_piece.evaluate(json_data, n=num_sub_stats)\n",
    "    pass\n",
    "else:\n",
    "    sst.compute_probabilities(json_data, sub_stats, rolls)\n",
    "    pass"
   ]
  },
  {
   "cell_type": "markdown",
   "metadata": {},
   "source": [
    "### Quad Sub Stat Rating"
   ]
  },
  {
   "cell_type": "code",
   "execution_count": 6,
   "metadata": {},
   "outputs": [],
   "source": [
    "# num_sub_stats: int = 4\n",
    "# if level == 20:\n",
    "#     artifact_piece.evaluate(json_data, n=num_sub_stats)\n",
    "#     pass\n",
    "# else:\n",
    "#     ssq.compute_probabilities(json_data, sub_stats, rolls)\n",
    "#     pass"
   ]
  }
 ],
 "metadata": {
  "kernelspec": {
   "display_name": ".venv",
   "language": "python",
   "name": "python3"
  },
  "language_info": {
   "codemirror_mode": {
    "name": "ipython",
    "version": 3
   },
   "file_extension": ".py",
   "mimetype": "text/x-python",
   "name": "python",
   "nbconvert_exporter": "python",
   "pygments_lexer": "ipython3",
   "version": "3.12.3"
  }
 },
 "nbformat": 4,
 "nbformat_minor": 2
}
