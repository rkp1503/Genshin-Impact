{
 "cells": [
  {
   "cell_type": "markdown",
   "metadata": {},
   "source": [
    "# Mining Outcrop Analysis\n",
    "\n",
    "#### Author: [Rayla Kurosaki](https://github.com/rkp1503)"
   ]
  },
  {
   "cell_type": "code",
   "execution_count": 1,
   "metadata": {},
   "outputs": [
    {
     "name": "stderr",
     "output_type": "stream",
     "text": [
      "c:\\Users\\rayla\\OneDrive\\GitHub\\Genshin-Impact\\.venv\\Lib\\site-packages\\openpyxl\\worksheet\\_reader.py:329: UserWarning: Data Validation extension is not supported and will be removed\n",
      "  warn(msg)\n"
     ]
    }
   ],
   "source": [
    "import os\n",
    "import pprint\n",
    "\n",
    "import mining_outcrop.mining_outcrop_main as mom\n",
    "\n",
    "path_to_json_file: str = \"assets/data/mining_outcrop.json\"\n",
    "path_to_excel_file: str = \"assets/data/mining_outcrop.xlsx\"\n",
    "path_to_copied_excel_file: str = \"assets/data/mining_outcrop - Backup.xlsx\"\n",
    "\n",
    "json_data: dict = mom.get_json_data(path_to_json_file)\n",
    "\n",
    "mom.add_excel_data_to_json(path_to_excel_file, path_to_copied_excel_file, json_data)\n",
    "\n",
    "# mom.update_json_file(path_to_json_file, json_data)"
   ]
  },
  {
   "cell_type": "markdown",
   "metadata": {},
   "source": [
    "## Mondstadt\n",
    "\n",
    "##### Search Strategy\n",
    "\n",
    "##### NPCs:\n",
    "| Type       | Name    | Locations               | Conditions                            |\n",
    "|------------|---------|-------------------------|---------------------------------------|\n",
    "| Blacksmith | Wagner  |                         |                                       |\n",
    "| NPC A      | Doolan  | 1 -> 2 -> 3             |                                       |\n",
    "| NPC B      | Draff** | 4 -> 5 -> 6 -> 7        |                                       |\n",
    "| NPC C      | Davy    | $x_i$ -> $x_i$ -> $x_i$ | $x_i\\in\\{8,9,10\\},\\ x_i\\neq x_{i+1}$ |\n",
    "\n",
    "** Draff will only show up during the day (06:00-18:00)."
   ]
  },
  {
   "cell_type": "code",
   "execution_count": 2,
   "metadata": {},
   "outputs": [
    {
     "name": "stdout",
     "output_type": "stream",
     "text": [
      "~~~~~~~~~~~~~~~~~~~~~~~~~~~ Mondstadt Full Analysis ~~~~~~~~~~~~~~~~~~~~~~~~~~~\n",
      "Size of data: 56\n",
      "\n",
      "~~~~~~~~~~~~~~~~~~~~~~~~ Ley Line Pairing Probabilities ~~~~~~~~~~~~~~~~~~~~~~~\n",
      "|           Wealth          |         Revelation        | Probability |\n",
      "|---------------------------+---------------------------+-------------|\n",
      "| Springvale [SW]           | Wolvendom [NW]            | 35.71%      |\n",
      "| Stormterror's Lair        | Stormbearer Point [SW]    | 23.21%      |\n",
      "| Dadaupa Gorge             | Springvale [SW]           | 16.07%      |\n",
      "| Windrise [N]              | Thousand Winds Temple [W] | 10.71%      |\n",
      "| Stormbearer Point [SW]    | Thousand Winds Temple [W] | 5.36%       |\n",
      "| Stormbearer Point [SW]    | Windrise [N]              | 3.57%       |\n",
      "| Thousand Winds Temple [W] | Windrise [N]              | 3.57%       |\n",
      "| Wolvendom [NW]            | Stormterror's Lair        | 1.79%       |\n",
      "\n",
      "~~~~~~~~~~~~~~~~~~~~~~ Ley Line Mining Location Analysis ~~~~~~~~~~~~~~~~~~~~~~\n",
      "• Dadaupa Gorge | Springvale [SW]\n",
      "• Springvale [SW] | Wolvendom [NW]\n",
      "• Stormbearer Point [SW] | Thousand Winds Temple [W]\n",
      "• Stormbearer Point [SW] | Windrise [N]\n",
      "• Stormterror's Lair | Stormbearer Point [SW]\n",
      "• Thousand Winds Temple [W] | Windrise [N]\n",
      "• Windrise [N] | Thousand Winds Temple [W]\n",
      "• Wolvendom [NW] | Stormterror's Lair\n",
      "\n",
      "~~~~~~~~~~~~~~~~~~~~~~~~~~~~~~~~~ NPC Analysis ~~~~~~~~~~~~~~~~~~~~~~~~~~~~~~~~\n",
      "npc_a: 1 -> 2 -> 3\n",
      "npc_b: 4 -> 5 -> 6 -> 7\n",
      "npc_c: (10, 8, 9) -> (10, 8, 9) -> (10, 8, 9)\n"
     ]
    }
   ],
   "source": [
    "nation: str = \"Mondstadt\"\n",
    "mom.print_full_analysis(nation, json_data, sort=\"probability\")"
   ]
  },
  {
   "cell_type": "markdown",
   "metadata": {},
   "source": [
    "## Liyue\n",
    "\n",
    "##### Search Strategy\n",
    "\n",
    "#### NPCs:\n",
    "| Type       | Name          | Locations                                 | Conditions                               |\n",
    "|------------|---------------|-------------------------------------------|------------------------------------------|\n",
    "| Blacksmith | Master Zhang  |                                           |                                          |\n",
    "| NPC A      | Iron Shoulder | $x_i$ -> $x_i$ -> $x_i$ -> $x_i$ -> $x_i$ | $x_i\\in\\{3,5,6,7,10\\},\\ x_i\\neq x_{i+1}$ |\n",
    "| NPC B      | Shizhuang     | 1 -> 9 -> 2 -> 8 -> 4                     |                                          |\n",
    "| NPC C      | Pan Guan'er   | $a$ -> $b$ -> $c_i$ -> $c_i$ -> $d_i$ -> $d_i$ -> $e$ -> $f$ -> $g_i$ -> $g_i$ -> $h$ | $a\\in\\{18,19,24\\}$, $b\\in\\{18,19,20,21,24\\}$, $c_i\\in\\{14,15,18,19,20,21,24\\},\\ c_i\\neq c_{i+1}$, $d_i\\in\\{14,15,18,19,20,21\\},\\ d_i\\neq d_{i+1}$, $e\\in\\{14,15,16,17,19,21,22\\}$, $f\\in\\{15,16,17,19,22\\}$, $g_i\\in\\{15,17,19,22,23\\},\\ g_i\\neq g_{i+1}$, $h\\in\\{15,19,23\\}$, $a\\neq b\\neq c_i\\neq d_i\\neq e\\neq f\\neq g_i\\neq h$ |\n",
    "| NPC D      | Shushan       | 30 -> 31                                  |                                          |"
   ]
  },
  {
   "cell_type": "code",
   "execution_count": 3,
   "metadata": {},
   "outputs": [
    {
     "name": "stdout",
     "output_type": "stream",
     "text": [
      "~~~~~~~~~~~~~~~~~~~~~~~~~~~~~ Liyue Full Analysis ~~~~~~~~~~~~~~~~~~~~~~~~~~~~~\n",
      "Size of data: 56\n",
      "\n",
      "~~~~~~~~~~~~~~~~~~~~~~~~ Ley Line Pairing Probabilities ~~~~~~~~~~~~~~~~~~~~~~~\n",
      "|        Wealth        |      Revelation      | Probability |\n",
      "|----------------------+----------------------+-------------|\n",
      "| Sal Terrae           | Yaoguang Shoal [NW]  | 16.07%      |\n",
      "| Mt. Aocang [N]       | Qingce Village [S]   | 10.71%      |\n",
      "| Jueyun Karst [E]     | Bishui Plain [NW]    | 8.93%       |\n",
      "| Sea of Clouds S7 [E] | Qingxu Pool [E]      | 8.93%       |\n",
      "| Stone Gate [E]       | Sal Terrae           | 7.14%       |\n",
      "| Yaoguang Shoal [NW]  | Guyun Stone Forest   | 7.14%       |\n",
      "| Duyun Ruins [S]      | Qingxu Pool [E]      | 5.36%       |\n",
      "| Nantianmen [S]       | Qingyun Peak [S]     | 5.36%       |\n",
      "| Qingce Village [S]   | Stone Gate [E]       | 5.36%       |\n",
      "| Sea of Clouds S7 [E] | Duyun Ruins [S]      | 5.36%       |\n",
      "| Bishui Plain [NW]    | Jueyun Karst [E]     | 3.57%       |\n",
      "| Mt. Xuanlian [SW]    | Mt. Aocang [N]       | 3.57%       |\n",
      "| Qingyun Peak [S]     | Bishui Plain [NW]    | 3.57%       |\n",
      "| Qingyun Peak [S]     | Jueyun Karst [E]     | 3.57%       |\n",
      "| Duyun Ruins [S]      | Sea of Clouds S7 [E] | 1.79%       |\n",
      "| Guyun Stone Forest   | Sea of Clouds S7 [E] | 1.79%       |\n",
      "| Qingxu Pool [E]      | Duyun Ruins [S]      | 1.79%       |\n",
      "\n",
      "~~~~~~~~~~~~~~~~~~~~~~ Ley Line Mining Location Analysis ~~~~~~~~~~~~~~~~~~~~~~\n",
      "• Bishui Plain [NW] | Jueyun Karst [E]\n",
      "• Duyun Ruins [S] | Qingxu Pool [E]\n",
      "• Duyun Ruins [S] | Sea of Clouds S7 [E]\n",
      "• Guyun Stone Forest | Sea of Clouds S7 [E]\n",
      "• Jueyun Karst [E] | Bishui Plain [NW]\n",
      "• Mt. Aocang [N] | Qingce Village [S]\n",
      "• Mt. Xuanlian [SW] | Mt. Aocang [N]\n",
      "• Nantianmen [S] | Qingyun Peak [S]\n",
      "• Qingce Village [S] | Stone Gate [E]\n",
      "• Qingxu Pool [E] | Duyun Ruins [S]\n",
      "• Qingyun Peak [S] | Bishui Plain [NW]\n",
      "• Qingyun Peak [S] | Jueyun Karst [E]\n",
      "• Sal Terrae | Yaoguang Shoal [NW]\n",
      "• Sea of Clouds S7 [E] | Duyun Ruins [S]\n",
      "• Sea of Clouds S7 [E] | Qingxu Pool [E]\n",
      "• Stone Gate [E] | Sal Terrae\n",
      "• Yaoguang Shoal [NW] | Guyun Stone Forest\n",
      "\n",
      "~~~~~~~~~~~~~~~~~~~~~~~~~~~~~~~~~ NPC Analysis ~~~~~~~~~~~~~~~~~~~~~~~~~~~~~~~~\n",
      "npc_a: (10, 5) -> (10, 3, 5) -> (3, 5) -> 6 -> 7\n",
      "npc_b: 1 -> 9 -> 2 -> 8 -> 4\n",
      "npc_c: (18, 24) -> (18, 20, 21, 24) -> (14, 15, 18, 20, 21, 24) -> (14, 15, 18, 20, 21) -> (14, 15, 18, 21) -> (14, 15, 16, 21) -> (15, 16, 17, 22) -> (15, 17, 22) -> (15, 17, 22, 23) -> (15, 23)\n",
      "npc_d: 30 -> 31\n"
     ]
    }
   ],
   "source": [
    "nation: str = \"Liyue\"\n",
    "mom.print_full_analysis(nation, json_data, sort=\"probability\")"
   ]
  },
  {
   "cell_type": "markdown",
   "metadata": {},
   "source": [
    "## Inazuma\n",
    "\n",
    "##### Search Strategy\n",
    "\n",
    "##### NPCs:\n",
    "| Type       | Name             | Locations                                    | Conditions                          |\n",
    "|------------|------------------|----------------------------------------------|-------------------------------------|\n",
    "| Blacksmith | Hajime           |                                              |                                     |\n",
    "| NPC A      | Qiuyue           | $x_i$ -> $x_i$ -> 6 -> 4 -> 3 -> 1           | $x_i\\in\\{2,5\\},\\ x_i\\neq x_{i+1}$   |\n",
    "| NPC B      | Ikuhara Gai      | 7 -> $x_i$ -> $x_i$ -> 12 -> 11 -> 9         | $x_i\\in\\{8,10\\},\\ x_i\\neq x_{i+1}$  |\n",
    "| NPC C      | Miyazaki Saburou | 18 -> 17 -> 16 -> 13 -> $y_i$ -> $y_i$       | $y_i\\in\\{14,15\\},\\ y_i\\neq y_{i+1}$ |\n",
    "| NPC D      | Kagawa           | 23 -> 24 -> 25 -> $x_i$ -> $x_i$ -> 20 -> 22 | $x_i\\in\\{19,21\\},\\ x_i\\neq x_{i+1}$ |"
   ]
  },
  {
   "cell_type": "code",
   "execution_count": 4,
   "metadata": {},
   "outputs": [
    {
     "name": "stdout",
     "output_type": "stream",
     "text": [
      "~~~~~~~~~~~~~~~~~~~~~~~~~~~~ Inazuma Full Analysis ~~~~~~~~~~~~~~~~~~~~~~~~~~~~\n",
      "Size of data: 56\n",
      "\n",
      "~~~~~~~~~~~~~~~~~~~~~~~~ Ley Line Pairing Probabilities ~~~~~~~~~~~~~~~~~~~~~~~\n",
      "|       Wealth       |     Revelation     | Probability |\n",
      "|--------------------+--------------------+-------------|\n",
      "| Koseki Village [N] | Tatarasuna [N]     | 28.57%      |\n",
      "| Araumi             | Jakotsu Mine       | 21.43%      |\n",
      "| Jakotsu Mine       | Bourou Village [E] | 21.43%      |\n",
      "| Bourou Village [E] | Koseki Village [N] | 16.07%      |\n",
      "| Tatarasuna [N]     | Araumi             | 12.50%      |\n",
      "\n",
      "~~~~~~~~~~~~~~~~~~~~~~ Ley Line Mining Location Analysis ~~~~~~~~~~~~~~~~~~~~~~\n",
      "• Araumi | Jakotsu Mine\n",
      "• Bourou Village [E] | Koseki Village [N]\n",
      "• Jakotsu Mine | Bourou Village [E]\n",
      "• Koseki Village [N] | Tatarasuna [N]\n",
      "• Tatarasuna [N] | Araumi\n",
      "\n",
      "~~~~~~~~~~~~~~~~~~~~~~~~~~~~~~~~~ NPC Analysis ~~~~~~~~~~~~~~~~~~~~~~~~~~~~~~~~\n",
      "npc_a: (2, 5) -> (2, 5) -> 6 -> 4 -> 3 -> 1\n",
      "npc_b: 7 -> (10, 8) -> (10, 8) -> 12 -> 11 -> 9\n",
      "npc_c: 18 -> 17 -> 16 -> 13 -> (14, 15) -> (14, 15)\n",
      "npc_d: 23 -> 24 -> 25 -> (19, 21) -> (19, 21) -> 20 -> 22\n"
     ]
    }
   ],
   "source": [
    "nation: str = \"Inazuma\"\n",
    "mom.print_full_analysis(nation, json_data, sort=\"probability\")\n",
    "# mom.npc_analysis(nation, json_data)"
   ]
  },
  {
   "cell_type": "markdown",
   "metadata": {},
   "source": [
    "## Sumeru\n",
    "\n",
    "##### Search Strategy\n",
    "\n",
    "##### NPCs:\n",
    "| Type       | Name     | Locations                  | Conditions                                                                                 |\n",
    "|------------|----------|----------------------------|--------------------------------------------------------------------------------------------|\n",
    "| Blacksmith | Ahangar  |                            |                                                                                            |\n",
    "| NPC A      | Anand    | $a$ -> $b$ -> $c$ -> $d$   | $a\\in\\{9,10\\}$, $b\\in\\{8,9,10\\}$, $c\\in\\{8,10,11\\}$, $d\\in\\{8,11\\}$, $a\\neq b\\neq c\\neq d$ |\n",
    "| NPC B      | Izad     | $x_i$ -> $x_i$ -> $x_i$    | $x_i\\in\\{18,19,24\\},\\ x_i\\neq x_{i+1}$                                                     |\n",
    "| NPC C      | Ma'asudi | 13 -> 15 -> 16 -> 14 -> 23 |                                                                                            |\n",
    "| NPC D      | Kazim    | 29 -> 28 -> 27 -> 30 -> 26 |                                                                                            |"
   ]
  },
  {
   "cell_type": "code",
   "execution_count": 5,
   "metadata": {},
   "outputs": [
    {
     "name": "stdout",
     "output_type": "stream",
     "text": [
      "~~~~~~~~~~~~~~~~~~~~~~~~~~~~~ Sumeru Full Analysis ~~~~~~~~~~~~~~~~~~~~~~~~~~~~\n",
      "Size of data: 56\n",
      "\n",
      "~~~~~~~~~~~~~~~~~~~~~~~~ Ley Line Pairing Probabilities ~~~~~~~~~~~~~~~~~~~~~~~\n",
      "|               Wealth               |             Revelation             | Probability |\n",
      "|------------------------------------+------------------------------------+-------------|\n",
      "| Aaru Village [NW]                  | Valley of Dahri                    | 19.64%      |\n",
      "| Dunes of Steel [W]                 | Samdura Coast [SE]                 | 16.07%      |\n",
      "| Samdura Coast [SE]                 | The Palace of Alcazarzaray [SE]    | 14.29%      |\n",
      "| Port Ormos [NW]                    | Apam Woods [N]                     | 12.50%      |\n",
      "| Valley of Dahri                    | The Mausoleum of King Deshret [NW] | 12.50%      |\n",
      "| Paradis Dhyai [N]                  | Aaru Village [NW]                  | 7.14%       |\n",
      "| Safhe Shatranj [NW]                | Dunes of Steel [W]                 | 7.14%       |\n",
      "| The Mausoleum of King Deshret [NW] | Safhe Shatranj [NW]                | 7.14%       |\n",
      "| Apam Woods [N]                     | Paradis Dhyai [N]                  | 3.57%       |\n",
      "\n",
      "~~~~~~~~~~~~~~~~~~~~~~ Ley Line Mining Location Analysis ~~~~~~~~~~~~~~~~~~~~~~\n",
      "• Aaru Village [NW] | Valley of Dahri\n",
      "• Apam Woods [N] | Paradis Dhyai [N]\n",
      "• Dunes of Steel [W] | Samdura Coast [SE]\n",
      "• Paradis Dhyai [N] | Aaru Village [NW]\n",
      "• Port Ormos [NW] | Apam Woods [N]\n",
      "• Safhe Shatranj [NW] | Dunes of Steel [W]\n",
      "• Samdura Coast [SE] | The Palace of Alcazarzaray [SE]\n",
      "• The Mausoleum of King Deshret [NW] | Safhe Shatranj [NW]\n",
      "• Valley of Dahri | The Mausoleum of King Deshret [NW]\n",
      "\n",
      "~~~~~~~~~~~~~~~~~~~~~~~~~~~~~~~~~ NPC Analysis ~~~~~~~~~~~~~~~~~~~~~~~~~~~~~~~~\n",
      "npc_a: (10, 9) -> (10, 8, 9) -> (10, 11, 8) -> (11, 8)\n",
      "npc_b: (18, 19, 20, 24) -> (18, 19, 20, 24) -> (18, 19, 20, 24) -> (18, 19, 20, 24)\n",
      "npc_c: (13, 17) -> (13, 15, 17) -> (15, 16, 17) -> (14, 16, 17) -> (14, 17) -> 23\n",
      "npc_d: 29 -> 28 -> 27 -> 30 -> 26\n"
     ]
    }
   ],
   "source": [
    "nation: str = \"Sumeru\"\n",
    "mom.print_full_analysis(nation, json_data, sort=\"probability\")"
   ]
  },
  {
   "cell_type": "markdown",
   "metadata": {},
   "source": [
    "## Fontaine\n",
    "\n",
    "##### Search Strategy\n",
    "\n",
    "##### NPCs:\n",
    "| Type       | Name      | Locations            | Conditions                          |\n",
    "|------------|-----------|----------------------|-------------------------------------|\n",
    "| Blacksmith | Estelle   |                      |                                     |\n",
    "| NPC A      | Cheriez   | 1 -> 6               |                                     |\n",
    "| NPC B      | Hinterman | 2 -> 3               |                                     |\n",
    "| NPC C      | Cava      | 8 -> 7               |                                     |\n",
    "| NPC D      | Remande   | 4 -> 5 -> 9 -> 10    |                                     |\n",
    "| NPC E      | Damestier | 11 -> $x_i$ -> $x_i$ | $x_i\\in\\{12,13\\},\\ x_i\\neq x_{i+1}$ |\n",
    "| NPC F      | Conjat    | $x_i$ -> $x_i$ -> 16 | $x_i\\in\\{14,15\\},\\ x_i\\neq x_{i+1}$ |\n",
    "| NPC G      | Mermet    | 17 -> 18             |                                     |"
   ]
  },
  {
   "cell_type": "code",
   "execution_count": 6,
   "metadata": {},
   "outputs": [
    {
     "name": "stdout",
     "output_type": "stream",
     "text": [
      "~~~~~~~~~~~~~~~~~~~~~~~~~~~~ Fontaine Full Analysis ~~~~~~~~~~~~~~~~~~~~~~~~~~~\n",
      "Size of data: 54\n",
      "\n",
      "~~~~~~~~~~~~~~~~~~~~~~~~ Ley Line Pairing Probabilities ~~~~~~~~~~~~~~~~~~~~~~~\n",
      "|                Wealth               |              Revelation             | Probability |\n",
      "|-------------------------------------+-------------------------------------+-------------|\n",
      "| Mont Esus East                      | New Fontaine Research Institute [W] | 25.93%      |\n",
      "| West Slopes of Mont Automnequi [S]  | Mont Esus East                      | 22.22%      |\n",
      "| West Slopes of Mont Automnequi [E]  | Elynas [SE]                         | 18.52%      |\n",
      "| Elynas [SE]                         | West Slopes of Mont Automnequi [S]  | 12.96%      |\n",
      "| New Fontaine Research Institute [W] | Weeping Willow of the Lake [SE]     | 12.96%      |\n",
      "| Weeping Willow of the Lake [SE]     | West Slopes of Mont Automnequi [E]  | 7.41%       |\n",
      "\n",
      "~~~~~~~~~~~~~~~~~~~~~~ Ley Line Mining Location Analysis ~~~~~~~~~~~~~~~~~~~~~~\n",
      "• Elynas [SE] | West Slopes of Mont Automnequi [S]\n",
      "• Mont Esus East | New Fontaine Research Institute [W]\n",
      "• New Fontaine Research Institute [W] | Weeping Willow of the Lake [SE]\n",
      "• Weeping Willow of the Lake [SE] | West Slopes of Mont Automnequi [E]\n",
      "• West Slopes of Mont Automnequi [E] | Elynas [SE]\n",
      "• West Slopes of Mont Automnequi [S] | Mont Esus East\n",
      "\n",
      "~~~~~~~~~~~~~~~~~~~~~~~~~~~~~~~~~ NPC Analysis ~~~~~~~~~~~~~~~~~~~~~~~~~~~~~~~~\n",
      "npc_a: 1 -> 6\n",
      "npc_b: 2 -> 3\n",
      "npc_c: 8 -> 7\n",
      "npc_d: 4 -> 5 -> 9 -> 10\n",
      "npc_e: 11 -> (12, 13) -> (12, 13)\n",
      "npc_f: (14, 15) -> (14, 15) -> 16\n",
      "npc_g: 17 -> 18\n"
     ]
    }
   ],
   "source": [
    "nation: str = \"Fontaine\"\n",
    "mom.print_full_analysis(nation, json_data, sort=\"probability\")"
   ]
  },
  {
   "cell_type": "markdown",
   "metadata": {},
   "source": [
    "## Natlan\n",
    "\n",
    "<!---\n",
    "-->"
   ]
  },
  {
   "cell_type": "markdown",
   "metadata": {},
   "source": [
    "## Snezhnaya\n",
    "\n",
    "<!---\n",
    "-->"
   ]
  }
 ],
 "metadata": {
  "kernelspec": {
   "display_name": ".venv",
   "language": "python",
   "name": "python3"
  },
  "language_info": {
   "codemirror_mode": {
    "name": "ipython",
    "version": 3
   },
   "file_extension": ".py",
   "mimetype": "text/x-python",
   "name": "python",
   "nbconvert_exporter": "python",
   "pygments_lexer": "ipython3",
   "version": "3.12.3"
  }
 },
 "nbformat": 4,
 "nbformat_minor": 2
}
