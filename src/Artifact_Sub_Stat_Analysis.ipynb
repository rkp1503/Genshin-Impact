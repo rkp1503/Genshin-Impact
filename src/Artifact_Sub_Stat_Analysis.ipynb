{
 "cells": [
  {
   "cell_type": "markdown",
   "metadata": {},
   "source": [
    "# Artifact Sub Stat Analysis\n",
    "#### Author: [Rayla Kurosaki](https://github.com/rkp1503)"
   ]
  },
  {
   "cell_type": "code",
   "execution_count": 1,
   "metadata": {},
   "outputs": [],
   "source": [
    "import json\n",
    "\n",
    "from constructors.artifact import ArtifactPiece\n",
    "import misc.table_functions as tf\n",
    "\n",
    "################################################################################\n",
    "\n",
    "with open(\"assets/data/sub_stats.json\", \"r\") as file:\n",
    "    json_data: dict = json.load(file)\n",
    "    pass\n",
    "\n",
    "HP, ATK, DEF, HPp, ATKp, DEFp, EM, ER, CR, CD = list(json_data.keys())"
   ]
  },
  {
   "cell_type": "code",
   "execution_count": 2,
   "metadata": {},
   "outputs": [
    {
     "name": "stdout",
     "output_type": "stream",
     "text": [
      "| Rating | Min CV | Standard Ratio | Artifact Ratio |     Build Type     |\n",
      "|--------+--------+----------------+----------------+--------------------|\n",
      "| S+     | 300    | 90:180         | 85:130         |                    |\n",
      "| S      | 260    | 80:160         | 75:110         |                    |\n",
      "| A      | 240    | 75:150         | 70:100         |                    |\n",
      "| B      | 220    | 70:140         | 65:90          | Main DPS           |\n",
      "| C      | 200    | 65:130         | 60:80          | Sub DPS            |\n",
      "| D      | 180    | 60:120         | 55:70          | DPS Support Hybrid |\n",
      "| F      | 0      | 5:50           | 5:50           | Pure Support       |\n"
     ]
    }
   ],
   "source": [
    "# data_to_print: list = [\n",
    "#     [\"Rating\", \"Min CV\", \"Standard Ratio\", \"Artifact Ratio\", \"Build Type\"]\n",
    "# ]\n",
    "# rating: list = [\"S+\", \"S\", \"A\", \"B\", \"C\", \"D\", \"F\"]\n",
    "# min_cv: list = [300, 260, 240, 220, 200, 180, 0]\n",
    "# ratio_full: list = [\"90:180\", \"80:160\", \"75:150\", \"70:140\", \"65:130\", \"60:120\", \"5:50\"]\n",
    "# ratio_artifact: list = [\"85:130\", \"75:110\", \"70:100\", \"65:90\", \"60:80\", \"55:70\", \"5:50\"]\n",
    "# build_type: list = [\"\", \"\", \"\", \"Main DPS\", \"Sub DPS\", \"DPS Support Hybrid\", \"Pure Support\"]\n",
    "\n",
    "# for (a, b, c, d, e) in zip(rating, min_cv, ratio_full, ratio_artifact, build_type):\n",
    "#     data_to_print.append([a, str(b), c, d, e])\n",
    "#     pass\n",
    "\n",
    "# tf.print_data_as_table(data_to_print)"
   ]
  },
  {
   "cell_type": "code",
   "execution_count": 3,
   "metadata": {},
   "outputs": [],
   "source": [
    "level: int = 20\n",
    "sub_stat_dict: dict[str, float] = {\n",
    "    CR: 10.5,\n",
    "    CD: 29.5,\n",
    "    EM: 23,\n",
    "    HPp: 4.1\n",
    "}"
   ]
  },
  {
   "cell_type": "markdown",
   "metadata": {},
   "source": [
    "### Sub Stat Ratings"
   ]
  },
  {
   "cell_type": "code",
   "execution_count": 4,
   "metadata": {},
   "outputs": [
    {
     "name": "stdout",
     "output_type": "stream",
     "text": [
      "| Single Sub Stat |   Double Sub Stat   |    Triple Sub Stat     |      Quad Sub Stat       |\n",
      "|-----------------+---------------------+------------------------+--------------------------|\n",
      "| CD%: B (63.33%) | CR%/CD%: S (92.86%) | CR%/CD%/EM: S (93.75%) | CR%/CD%/EM/HP%: (91.11%) |\n",
      "| CR%: C (45.0%)  | CD%/EM: A (68.57%)  | CR%/CD%/HP%: S (90.0%) |                          |\n",
      "| EM: F (16.67%)  | CD%/HP%: B (64.29%) | CD%/EM/HP%: B (68.75%) |                          |\n",
      "| HP%: F (11.67%) | CR%/EM: C (52.86%)  | CR%/EM/HP%: C (55.0%)  |                          |\n",
      "|                 | CR%/HP%: C (48.57%) |                        |                          |\n",
      "|                 | EM/HP%: F (24.29%)  |                        |                          |\n"
     ]
    }
   ],
   "source": [
    "ArtifactPiece(level, sub_stat_dict).analyze(json_data)"
   ]
  },
  {
   "cell_type": "code",
   "execution_count": 5,
   "metadata": {},
   "outputs": [],
   "source": [
    "# total_em: int = 0\n",
    "# # Kazuha A6\n",
    "# total_em += 115\n",
    "# # Kazuha's weapon (R1)\n",
    "# total_em += 198\n",
    "# # EM Sands/Goblet/Circlet\n",
    "# total_em += 3 * 187\n",
    "# print(f\"Total EM needed in Flower and Feather: {1000-total_em}\")\n",
    "# print(f\"EM needed in Flower or Feather: {(1000-total_em)/2}\")\n",
    "\n",
    "# er_goal = 20\n",
    "\n",
    "# temp_data_set, temp_data_count = ssd.get_all_possible_rolls(json_data, [EM, ER])\n",
    "# data_set: list[list[float]] = []\n",
    "# data_counts: list[int] = []\n",
    "# for (i, (roll, count)) in enumerate(zip(temp_data_set, temp_data_count)):\n",
    "#     if roll[0] >= (1000-total_em)/2:\n",
    "#         if roll[1] >= er_goal:\n",
    "#             data_set.append(roll)\n",
    "#             data_counts.append(count)\n",
    "#             print(f\"Roll: {roll}, Count: {count}\")\n",
    "#             pass\n",
    "#         pass\n",
    "#     pass"
   ]
  }
 ],
 "metadata": {
  "kernelspec": {
   "display_name": ".venv",
   "language": "python",
   "name": "python3"
  },
  "language_info": {
   "codemirror_mode": {
    "name": "ipython",
    "version": 3
   },
   "file_extension": ".py",
   "mimetype": "text/x-python",
   "name": "python",
   "nbconvert_exporter": "python",
   "pygments_lexer": "ipython3",
   "version": "3.12.3"
  }
 },
 "nbformat": 4,
 "nbformat_minor": 2
}
