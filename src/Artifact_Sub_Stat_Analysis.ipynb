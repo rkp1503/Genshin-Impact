{
 "cells": [
  {
   "cell_type": "markdown",
   "metadata": {},
   "source": [
    "# Artifact Sub Stat Analysis\n",
    "#### Author: [Rayla Kurosaki](https://github.com/rkp1503)"
   ]
  },
  {
   "cell_type": "code",
   "execution_count": 1,
   "metadata": {},
   "outputs": [],
   "source": [
    "import json\n",
    "\n",
    "from Constructors.Artifact import ArtifactPiece\n",
    "\n",
    "################################################################################\n",
    "\n",
    "with open(\"assets/data/sub_stats.json\", \"r\") as file:\n",
    "    json_data: dict = json.load(file)\n",
    "    pass"
   ]
  },
  {
   "cell_type": "code",
   "execution_count": 2,
   "metadata": {},
   "outputs": [],
   "source": [
    "level: int = 20\n",
    "sub_stats: dict[str, float] = {\n",
    "    # \"CR%\": 3.89,\n",
    "    # \"CD%\": 7.77,\n",
    "    # \"EM\": 23.31,\n",
    "    # \"ER%\": 6.48\n",
    "    # # \n",
    "    \"CR%\": 3.89*(1+2),\n",
    "    \"CD%\": 7.77*(1+3),\n",
    "    \"EM\": 23.31,\n",
    "    \"ER%\": 6.48\n",
    "}\n",
    "\n",
    "crit_value_goal: float = 30.0\n",
    "\n",
    "artifact_piece: ArtifactPiece = ArtifactPiece(level, list(sub_stats.keys()), list(sub_stats.values()))"
   ]
  },
  {
   "cell_type": "markdown",
   "metadata": {},
   "source": [
    "### Single Sub Stat Rating"
   ]
  },
  {
   "cell_type": "code",
   "execution_count": 3,
   "metadata": {},
   "outputs": [
    {
     "name": "stdout",
     "output_type": "stream",
     "text": [
      "Single Sub Stat Ratings:\n",
      "\tCD%: A (66.67%)\n",
      "\tCR%: B (50.0%)\n",
      "\tEM: F (16.67%)\n",
      "\tER%: F (16.67%)\n"
     ]
    }
   ],
   "source": [
    "artifact_piece.evaluate(json_data, n=1)"
   ]
  },
  {
   "cell_type": "markdown",
   "metadata": {},
   "source": [
    "### Double Sub Stat Rating"
   ]
  },
  {
   "cell_type": "code",
   "execution_count": 4,
   "metadata": {},
   "outputs": [
    {
     "name": "stdout",
     "output_type": "stream",
     "text": [
      "Double Sub Stat Ratings:\n",
      "\tCR%/CD%: S+ (100.0%)\n",
      "\tCD%/EM: A (71.43%)\n",
      "\tCD%/ER%: A (71.43%)\n",
      "\tCR%/EM: B (57.14%)\n",
      "\tCR%/ER%: B (57.14%)\n",
      "\tEM/ER%: F (28.57%)\n"
     ]
    }
   ],
   "source": [
    "artifact_piece.evaluate(json_data, n=2)"
   ]
  },
  {
   "cell_type": "markdown",
   "metadata": {},
   "source": [
    "### Triple Sub Stat Rating"
   ]
  },
  {
   "cell_type": "code",
   "execution_count": 5,
   "metadata": {},
   "outputs": [
    {
     "name": "stdout",
     "output_type": "stream",
     "text": [
      "Triple Sub Stat Ratings:\n",
      "\tCR%/CD%/EM: S+ (100.0%)\n",
      "\tCR%/CD%/ER%: S+ (100.0%)\n",
      "\tCD%/EM/ER%: A (75.0%)\n",
      "\tCR%/EM/ER%: B (62.5%)\n"
     ]
    }
   ],
   "source": [
    "artifact_piece.evaluate(json_data, n=3)"
   ]
  },
  {
   "cell_type": "markdown",
   "metadata": {},
   "source": [
    "### Quad Sub Stat Rating"
   ]
  },
  {
   "cell_type": "code",
   "execution_count": 6,
   "metadata": {},
   "outputs": [],
   "source": [
    "artifact_piece.evaluate(json_data, n=4)"
   ]
  },
  {
   "cell_type": "code",
   "execution_count": 7,
   "metadata": {},
   "outputs": [],
   "source": [
    "# \"\"\"\n",
    "# Author: Rayla Kurosaki\n",
    "\n",
    "# GitHub: https://github.com/rkp1503\n",
    "# \"\"\"\n",
    "\n",
    "# import copy\n",
    "\n",
    "# from numpy import gradient\n",
    "\n",
    "# substats: dict[str, list[float]] = {\n",
    "#     \"HP\": [209.13, 239.00, 268.88, 298.75],\n",
    "#     \"ATK\": [13.62, 15.56, 17.51, 19.45],\n",
    "#     \"DEF\": [16.20, 18.52, 20.83, 23.15],\n",
    "#     \"HP%\": [4.08, 4.66, 5.25, 5.83],\n",
    "#     \"ATK%\": [4.08, 4.66, 5.25, 5.83],\n",
    "#     \"DEF%\": [5.10, 5.83, 6.56, 7.29],\n",
    "#     \"EM\": [16.32, 18.65, 20.98, 23.31],\n",
    "#     \"ER%\": [4.53, 5.18, 5.83, 6.48],\n",
    "#     \"CR%\": [2.72, 3.11, 3.50, 3.89],\n",
    "#     \"CD%\": [5.44, 6.22, 6.99, 7.77],\n",
    "# }\n",
    "\n",
    "# grades_colors: dict[str, str] = {\n",
    "#     \"S+\": \"#d30505\",\n",
    "#     \"S\": \"#00fbfb\",\n",
    "#     \"A\": \"#ffd900\",\n",
    "#     \"B\": \"#ffa500\",\n",
    "#     \"C\": \"#af5ee5\",\n",
    "#     \"D\": \"#629df5\",\n",
    "#     \"F\": \"#787878\"\n",
    "# }\n",
    "\n",
    "# non_crit_main: dict[str, tuple[float, float]] = {\n",
    "#     \"S+\": (54.4, 99.9),\n",
    "#     \"S\": (50.5, 53.7),\n",
    "#     \"A\": (45.1, 49.8),\n",
    "#     \"B\": (35.0, 44.3),\n",
    "#     \"C\": (25.5, 34.9),\n",
    "#     \"D\": (15.5, 24.9),\n",
    "#     \"F\": (00.0, 14.9)\n",
    "# }\n",
    "\n",
    "# crit_rate_circlet: dict[str, tuple[float, float]] = {\n",
    "#     \"S+\": (46.6, 99.9),\n",
    "#     \"S\": (42.7, 45.8),\n",
    "#     \"A\": (37.3, 42.0),\n",
    "#     \"B\": (27.2, 36.5),\n",
    "#     \"C\": (17.4, 26.4),\n",
    "#     \"D\": (07.5, 17.1),\n",
    "#     \"F\": (00.0, 07.0)\n",
    "# }\n",
    "\n",
    "# crit_damage_circlet: dict[str, tuple[float, float]] = {\n",
    "#     \"S+\": (46.7, 99.9),\n",
    "#     \"S\": (42.8, 45.9),\n",
    "#     \"A\": (37.3, 42.0),\n",
    "#     \"B\": (27.2, 36.6),\n",
    "#     \"C\": (17.4, 26.4),\n",
    "#     \"D\": (07.4, 17.1),\n",
    "#     \"F\": (00.0, 07.0)\n",
    "# }\n",
    "\n",
    "# def simulate_all_possible_rolls(num_rolls: int, ss_i: list[str], ssv_i: list[float], extra_substats: int, zero_rolls:bool=True) -> list[list[float]]:\n",
    "#     future_rolls: list[list[float]] = []\n",
    "    \n",
    "#     simulate_all_possible_rolls_helper(future_rolls, extra_substats, ss_i, ssv_i, zero_rolls)\n",
    "    \n",
    "#     for _ in range(2, num_rolls + 1):\n",
    "#         for prev_roll in copy.deepcopy(future_rolls):\n",
    "#             simulate_all_possible_rolls_helper(future_rolls, extra_substats, ss_i, prev_roll, zero_rolls)\n",
    "#             pass\n",
    "#         pass\n",
    "#     return future_rolls\n",
    "\n",
    "\n",
    "# def simulate_all_possible_rolls_helper(future_rolls: list[list[float]], extra_substats: int, ss_i: list[str], roll: list[float], zero_rolls:bool):\n",
    "#     if zero_rolls:\n",
    "#         for _ in range(4*extra_substats):\n",
    "#             future_rolls.append(roll)\n",
    "#             pass\n",
    "#         pass\n",
    "#     for (ssv_1, ssv_2) in zip(substats[ss_i[0]], substats[ss_i[1]]):\n",
    "#         future_rolls.append([roll[0] + ssv_1, roll[1]])\n",
    "#         future_rolls.append([roll[0], roll[1] + ssv_2])\n",
    "#         pass\n",
    "#     pass\n",
    "\n",
    "# def compute_roll_value(roll: list[float], ss_i: list[str]) -> float:\n",
    "#     roll_value: float = 0.0\n",
    "#     if (\"CR%\" == ss_i[0]) and (\"CD%\" == ss_i[1]):\n",
    "#         roll_value = roll[0] * 2 + roll[1]\n",
    "#         pass\n",
    "#     elif (\"CD%\" == ss_i[0]) and (\"CR%\" == ss_i[1]):\n",
    "#         roll_value = roll[0] + roll[1] * 2\n",
    "#         pass\n",
    "#     return roll_value\n",
    "\n",
    "\n",
    "# def get_scale(ss_i: list[str]) -> dict[str, tuple[float, float]]:\n",
    "#     if (\"CR%\" in ss_i) and (\"CD%\" in ss_i):\n",
    "#         return non_crit_main\n",
    "#     return {}\n",
    "\n",
    "\n",
    "# def get_roll_values(rolls: list[list[float]], ss_i: list[str]) -> dict[float, int]:\n",
    "#     roll_values: dict[float, int] = {}\n",
    "#     for roll in rolls:\n",
    "#         roll_value: float = compute_roll_value(roll, ss_i)\n",
    "#         if roll_value not in roll_values.keys():\n",
    "#             roll_values[roll_value] = 1\n",
    "#             pass\n",
    "#         else:\n",
    "#             roll_values[roll_value] += 1\n",
    "#             pass\n",
    "#         pass\n",
    "#     return roll_values\n",
    "\n",
    "\n",
    "# def grade_roll_values(roll_values: dict[float, int], ss_i: list[str]) -> dict[str, int]:\n",
    "#     grade_counters: dict[str, int] = {\"S+\": 0, \"S\": 0, \"A\": 0, \"B\": 0, \"C\": 0, \"D\": 0, \"F\": 0}\n",
    "#     grading_scale: dict[str, tuple[float, float]] = get_scale(ss_i)\n",
    "#     for (roll_value, count) in roll_values.items():\n",
    "#         for (grade, interval) in grading_scale.items():\n",
    "#             if interval[0] <= roll_value <= interval[1]:\n",
    "#                 grade_counters[grade] = count\n",
    "#                 pass\n",
    "#             pass\n",
    "#         pass\n",
    "#     return grade_counters\n",
    "\n",
    "\n",
    "# def print_analysis(grade_counters: dict[str, int], ss_i: list[str], details=False) -> None:\n",
    "#     grading_scale: dict[str, tuple[float, float]] = get_scale(ss_i)\n",
    "#     total: int = sum(list(grade_counters.values()))\n",
    "#     if details:\n",
    "#         print(f\"Build type: {ss_i[0]}/{ss_i[1]}\\nComputing probabilities: \")\n",
    "#         pass\n",
    "#     else:\n",
    "#         print(f\"Computing probabilities: \")\n",
    "#         pass\n",
    "#     for (grade, count) in grade_counters.items():\n",
    "#         a, b = grading_scale[grade]\n",
    "#         detailed: str = \"\"\n",
    "#         if details:\n",
    "#             if grade == \"S+\":\n",
    "#                 detailed = f\" [{a}+]\"\n",
    "#                 pass\n",
    "#             else:\n",
    "#                 detailed = f\" [{a}, {b}]\"\n",
    "#                 pass\n",
    "#             pass\n",
    "#         print(f\"\\t{grade}{detailed}: {round(100*count/total, 2)}%\")\n",
    "#         pass\n",
    "#     return None\n",
    "\n",
    "# def crit_value_goal(roll_values: dict[float, int], crit_value_goal: float, ssv_i: list[float]) -> None:\n",
    "#     total: int = 0\n",
    "#     goal: int = 0\n",
    "#     for (roll_value, count) in roll_values.items():\n",
    "#         total += count\n",
    "#         if roll_value >= crit_value_goal:\n",
    "#             goal += count\n",
    "#             pass\n",
    "#         pass\n",
    "#     p: float = round(100 * goal / total, 2)\n",
    "#     print(f\"Current CV: {ssv_i[0]*2+ssv_i[1]}\")\n",
    "#     print(f\"Probability of acheiving a CV of {crit_value_goal}% is {p}%\")\n",
    "#     return None\n",
    "\n",
    "\n",
    "# def evaluate_substats(current_substats: dict[str, float]) -> None:\n",
    "#     ssv_i: list[float] = list(current_substats.values())\n",
    "#     ss_i: list[str] = list(current_substats.keys())\n",
    "    \n",
    "#     roll_value: float = compute_roll_value(ssv_i, ss_i)\n",
    "#     grading_scale: dict[str, tuple[float, float]] = get_scale(ss_i)\n",
    "    \n",
    "#     for (grade, interval) in grading_scale.items():\n",
    "#         if interval[0] <= roll_value <= interval[1]:\n",
    "#             print(f\"Artifact rating: {grade}\")\n",
    "#             break\n",
    "#         pass\n",
    "#     return None\n"
   ]
  },
  {
   "cell_type": "code",
   "execution_count": 8,
   "metadata": {},
   "outputs": [],
   "source": [
    "# num_rolls: int = 5 - math.floor(level / 4)\n",
    "\n",
    "# ss_i: list[str] = list(current_substats.keys())\n",
    "\n",
    "# ssv_i: list[float] = list(current_substats.values())\n",
    "\n",
    "# extra_substats: int = 4 - (len(ssv_i))\n",
    "\n",
    "# # rolls: list[list[float]] = utils.simulate_all_possible_rolls(num_rolls, ss_i, ssv_i, extra_substats, zero_rolls=True)\n",
    "# rolls: list[list[float]] = utils.simulate_all_possible_rolls(num_rolls, ss_i, ssv_i, extra_substats)\n",
    "\n",
    "# roll_values: dict[float, int] = utils.get_roll_values(rolls, ss_i)\n",
    "\n",
    "# graded_rolls: dict[str, int] = utils.grade_roll_values(roll_values, ss_i)\n",
    "\n",
    "# if level >= 20:\n",
    "#     utils.evaluate_substats(current_substats)\n",
    "#     pass\n",
    "# else:\n",
    "#     # utils.print_analysis(graded_rolls, ss_i, details=True)\n",
    "#     utils.print_analysis(graded_rolls, ss_i)\n",
    "\n",
    "#     utils.crit_value_goal(roll_values, crit_value_goal, ssv_i)\n",
    "# pass"
   ]
  }
 ],
 "metadata": {
  "kernelspec": {
   "display_name": ".venv",
   "language": "python",
   "name": "python3"
  },
  "language_info": {
   "codemirror_mode": {
    "name": "ipython",
    "version": 3
   },
   "file_extension": ".py",
   "mimetype": "text/x-python",
   "name": "python",
   "nbconvert_exporter": "python",
   "pygments_lexer": "ipython3",
   "version": "3.11.1"
  }
 },
 "nbformat": 4,
 "nbformat_minor": 2
}
