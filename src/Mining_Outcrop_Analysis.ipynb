{
 "cells": [
  {
   "cell_type": "markdown",
   "metadata": {},
   "source": [
    "# Mining Outcrop Analysis\n",
    "\n",
    "#### Author: [Rayla Kurosaki](https://github.com/rkp1503)"
   ]
  },
  {
   "cell_type": "code",
   "execution_count": 9,
   "metadata": {},
   "outputs": [],
   "source": [
    "import mining_outcrop.mining_outcrop_main as mom\n",
    "\n",
    "filename: str = \"mining_outcrop\"\n",
    "\n",
    "path_to_json_file: str = f\"assets/data/{filename}.json\"\n",
    "path_to_excel_file: str = f\"assets/data/{filename}.xlsx\"\n",
    "path_to_copied_excel_file: str = f\"assets/data/{filename} - Backup.xlsx\"\n",
    "\n",
    "json_data: dict = mom.get_json_data(path_to_json_file)\n",
    "\n",
    "mom.add_excel_data_to_json(path_to_excel_file, path_to_copied_excel_file, json_data)\n",
    "\n",
    "# mom.update_json_file(path_to_json_file, json_data)"
   ]
  },
  {
   "cell_type": "markdown",
   "metadata": {},
   "source": [
    "## Mondstadt\n",
    "\n",
    "<!-- \n",
    "##### Search Strategy\n",
    "\n",
    "##### NPCs:\n",
    "| Type       | Name    | Locations               | Conditions                           |\n",
    "|------------|---------|-------------------------|--------------------------------------|\n",
    "| Blacksmith | Wagner  |                         |                                      |\n",
    "| NPC A      | Doolan  | 1 -> 2 -> 3             |                                      |\n",
    "| NPC B      | Draff** | 4 -> 5 -> 6 -> 7        |                                      |\n",
    "| NPC C      | Davy    | $x_i$ -> $x_i$ -> $x_i$ | $x_i\\in\\{8,9,10\\},\\ x_i\\neq x_{i+1}$ |\n",
    "\n",
    "** Draff will only show up during the day (06:00-18:00).\n",
    "-->"
   ]
  },
  {
   "cell_type": "code",
   "execution_count": 10,
   "metadata": {},
   "outputs": [
    {
     "name": "stdout",
     "output_type": "stream",
     "text": [
      "~~~~~~~~~~~~~~~~~~~~~~~~~~~ Mondstadt Full Analysis ~~~~~~~~~~~~~~~~~~~~~~~~~~~\n",
      "Size of data: 60\n",
      "\n",
      "~~~~~~~~~~~~~~~~~~~~~~~~ Ley Line Pairing Probabilities ~~~~~~~~~~~~~~~~~~~~~~~\n",
      "|           Wealth          |         Revelation        | Probability |\n",
      "|---------------------------+---------------------------+-------------|\n",
      "| Springvale [SW]           | Wolvendom [NW]            | 35.00%      |\n",
      "| Stormterror's Lair        | Stormbearer Point [SW]    | 23.33%      |\n",
      "| Dadaupa Gorge             | Springvale [SW]           | 16.67%      |\n",
      "| Windrise [N]              | Thousand Winds Temple [W] | 10.00%      |\n",
      "| Stormbearer Point [SW]    | Thousand Winds Temple [W] | 5.00%       |\n",
      "| Stormbearer Point [SW]    | Windrise [N]              | 5.00%       |\n",
      "| Thousand Winds Temple [W] | Windrise [N]              | 3.33%       |\n",
      "| Wolvendom [NW]            | Stormterror's Lair        | 1.67%       |\n",
      "\n",
      "~~~~~~~~~~~~~~~~~~~~~~ Ley Line Mining Location Analysis ~~~~~~~~~~~~~~~~~~~~~~\n",
      "• Dadaupa Gorge | Springvale [SW]\n",
      "• Springvale [SW] | Wolvendom [NW]\n",
      "• Stormbearer Point [SW] | Thousand Winds Temple [W]\n",
      "• Stormbearer Point [SW] | Windrise [N]\n",
      "• Stormterror's Lair | Stormbearer Point [SW]\n",
      "• Thousand Winds Temple [W] | Windrise [N]\n",
      "• Windrise [N] | Thousand Winds Temple [W]\n",
      "• Wolvendom [NW] | Stormterror's Lair\n",
      "\n",
      "~~~~~~~~~~~~~~~~~~~~~~~~~~~~~~~~~ NPC Analysis ~~~~~~~~~~~~~~~~~~~~~~~~~~~~~~~~\n",
      "npc_a: 1 -> 2 -> 3\n",
      "npc_b: 4 -> 5 -> 6 -> 7\n",
      "npc_c: {8,9,10} -> {8,9,10} -> {8,9,10}\n"
     ]
    }
   ],
   "source": [
    "nation: str = \"Mondstadt\"\n",
    "mom.print_full_analysis(nation, json_data, sort=\"probability\")"
   ]
  },
  {
   "cell_type": "markdown",
   "metadata": {},
   "source": [
    "## Liyue\n",
    "\n",
    "<!-- \n",
    "##### Search Strategy\n",
    "\n",
    "#### NPCs:\n",
    "| Type       | Name          | Locations                   | Conditions                                                     |\n",
    "|------------|---------------|-----------------------------|----------------------------------------------------------------|\n",
    "| Blacksmith | Master Zhang  |                             |                                                                |\n",
    "| NPC A      | Iron Shoulder | $a$ -> $b$ -> $c$ -> 6 -> 7 | $a\\in\\{5,10\\},\\ b\\in\\{3,5,10\\},\\ c\\in\\{3,5\\}$, $a\\neq b\\neq c$ |\n",
    "| NPC B      | Shizhuang     | 1 -> 9 -> 2 -> 8 -> 4       |                                                                |\n",
    "| NPC C      | Pan Guan'er   | $a$ -> $b$ -> $c$ -> $d$ -> $e$ -> $f$ -> $g$ -> $h$ -> $j$ -> $k$ | $a\\in\\{18,19,24\\},\\ b\\in\\{18,19,20,21,24\\},\\ c\\in\\{14,15,18,19,20,21,24\\},\\ d\\in\\{14,15,18,19,20,21\\},\\ e\\in\\{14,15,18,19,21\\},\\ f\\in\\{14,15,16,19,21\\},\\ g\\in\\{15,16,17,19,22\\},\\ h\\in\\{15,17,19,22\\},\\ j\\in\\{15,17,19,22,23\\},\\ k\\in\\{15,19,23\\},\\ a\\neq b\\neq c\\neq d\\neq e\\neq f\\neq g\\neq h\\neq j\\neq k$ |\n",
    "| NPC D      | Shushan       | 30 -> 31                    |                                                                |\n",
    "-->"
   ]
  },
  {
   "cell_type": "code",
   "execution_count": 11,
   "metadata": {},
   "outputs": [
    {
     "name": "stdout",
     "output_type": "stream",
     "text": [
      "~~~~~~~~~~~~~~~~~~~~~~~~~~~~~ Liyue Full Analysis ~~~~~~~~~~~~~~~~~~~~~~~~~~~~~\n",
      "Size of data: 60\n",
      "\n",
      "~~~~~~~~~~~~~~~~~~~~~~~~ Ley Line Pairing Probabilities ~~~~~~~~~~~~~~~~~~~~~~~\n",
      "|        Wealth        |      Revelation      | Probability |\n",
      "|----------------------+----------------------+-------------|\n",
      "| Sal Terrae           | Yaoguang Shoal [NW]  | 16.67%      |\n",
      "| Mt. Aocang [N]       | Qingce Village [S]   | 10.00%      |\n",
      "| Jueyun Karst [E]     | Bishui Plain [NW]    | 8.33%       |\n",
      "| Sea of Clouds S7 [E] | Qingxu Pool [E]      | 8.33%       |\n",
      "| Stone Gate [E]       | Sal Terrae           | 8.33%       |\n",
      "| Nantianmen [S]       | Qingyun Peak [S]     | 6.67%       |\n",
      "| Yaoguang Shoal [NW]  | Guyun Stone Forest   | 6.67%       |\n",
      "| Duyun Ruins [S]      | Qingxu Pool [E]      | 5.00%       |\n",
      "| Qingce Village [S]   | Stone Gate [E]       | 5.00%       |\n",
      "| Sea of Clouds S7 [E] | Duyun Ruins [S]      | 5.00%       |\n",
      "| Bishui Plain [NW]    | Jueyun Karst [E]     | 3.33%       |\n",
      "| Guyun Stone Forest   | Sea of Clouds S7 [E] | 3.33%       |\n",
      "| Mt. Xuanlian [SW]    | Mt. Aocang [N]       | 3.33%       |\n",
      "| Qingyun Peak [S]     | Bishui Plain [NW]    | 3.33%       |\n",
      "| Qingyun Peak [S]     | Jueyun Karst [E]     | 3.33%       |\n",
      "| Duyun Ruins [S]      | Sea of Clouds S7 [E] | 1.67%       |\n",
      "| Qingxu Pool [E]      | Duyun Ruins [S]      | 1.67%       |\n",
      "\n",
      "~~~~~~~~~~~~~~~~~~~~~~ Ley Line Mining Location Analysis ~~~~~~~~~~~~~~~~~~~~~~\n",
      "• Bishui Plain [NW] | Jueyun Karst [E]\n",
      "• Duyun Ruins [S] | Qingxu Pool [E]\n",
      "• Duyun Ruins [S] | Sea of Clouds S7 [E]\n",
      "• Guyun Stone Forest | Sea of Clouds S7 [E]\n",
      "• Jueyun Karst [E] | Bishui Plain [NW]\n",
      "• Mt. Aocang [N] | Qingce Village [S]\n",
      "• Mt. Xuanlian [SW] | Mt. Aocang [N]\n",
      "• Nantianmen [S] | Qingyun Peak [S]\n",
      "• Qingce Village [S] | Stone Gate [E]\n",
      "• Qingxu Pool [E] | Duyun Ruins [S]\n",
      "• Qingyun Peak [S] | Bishui Plain [NW]\n",
      "• Qingyun Peak [S] | Jueyun Karst [E]\n",
      "• Sal Terrae | Yaoguang Shoal [NW]\n",
      "• Sea of Clouds S7 [E] | Duyun Ruins [S]\n",
      "• Sea of Clouds S7 [E] | Qingxu Pool [E]\n",
      "• Stone Gate [E] | Sal Terrae\n",
      "• Yaoguang Shoal [NW] | Guyun Stone Forest\n",
      "\n",
      "~~~~~~~~~~~~~~~~~~~~~~~~~~~~~~~~~ NPC Analysis ~~~~~~~~~~~~~~~~~~~~~~~~~~~~~~~~\n",
      "npc_a: {5,10} -> {3,5,10} -> {3,5} -> 6 -> 7\n",
      "npc_b: 1 -> 9 -> 2 -> 8 -> 4\n",
      "npc_c: {18,24} -> {18,20,21,24} -> {14,15,18,20,21,24} -> {14,15,18,20,21} -> {14,15,18,21} -> {14,15,16,21} -> {15,16,17,22} -> {15,17,22} -> {15,17,22,23} -> {15,23}\n",
      "npc_d: 30 -> 31\n"
     ]
    }
   ],
   "source": [
    "nation: str = \"Liyue\"\n",
    "mom.print_full_analysis(nation, json_data, sort=\"probability\")"
   ]
  },
  {
   "cell_type": "markdown",
   "metadata": {},
   "source": [
    "## Inazuma\n",
    "\n",
    "<!---\n",
    "##### Search Strategy\n",
    "\n",
    "##### NPCs:\n",
    "| Type       | Name             | Locations                                    | Conditions                          |\n",
    "|------------|------------------|----------------------------------------------|-------------------------------------|\n",
    "| Blacksmith | Hajime           |                                              |                                     |\n",
    "| NPC A      | Qiuyue           | $x_i$ -> $x_i$ -> 6 -> 4 -> 3 -> 1           | $x_i\\in\\{2,5\\},\\ x_i\\neq x_{i+1}$   |\n",
    "| NPC B      | Ikuhara Gai      | 7 -> $x_i$ -> $x_i$ -> 12 -> 11 -> 9         | $x_i\\in\\{8,10\\},\\ x_i\\neq x_{i+1}$  |\n",
    "| NPC C      | Miyazaki Saburou | 18 -> 17 -> 16 -> 13 -> 14 -> 15             |                                     |\n",
    "| NPC D      | Kagawa           | 23 -> 24 -> 25 -> $x_i$ -> $x_i$ -> 20 -> 22 | $x_i\\in\\{19,21\\},\\ x_i\\neq x_{i+1}$ |\n",
    "-->"
   ]
  },
  {
   "cell_type": "code",
   "execution_count": 12,
   "metadata": {},
   "outputs": [
    {
     "name": "stdout",
     "output_type": "stream",
     "text": [
      "~~~~~~~~~~~~~~~~~~~~~~~~~~~~ Inazuma Full Analysis ~~~~~~~~~~~~~~~~~~~~~~~~~~~~\n",
      "Size of data: 60\n",
      "\n",
      "~~~~~~~~~~~~~~~~~~~~~~~~ Ley Line Pairing Probabilities ~~~~~~~~~~~~~~~~~~~~~~~\n",
      "|       Wealth       |     Revelation     | Probability |\n",
      "|--------------------+--------------------+-------------|\n",
      "| Koseki Village [N] | Tatarasuna [N]     | 26.67%      |\n",
      "| Jakotsu Mine       | Bourou Village [E] | 21.67%      |\n",
      "| Araumi             | Jakotsu Mine       | 20.00%      |\n",
      "| Bourou Village [E] | Koseki Village [N] | 18.33%      |\n",
      "| Tatarasuna [N]     | Araumi             | 13.33%      |\n",
      "\n",
      "~~~~~~~~~~~~~~~~~~~~~~ Ley Line Mining Location Analysis ~~~~~~~~~~~~~~~~~~~~~~\n",
      "• Araumi | Jakotsu Mine\n",
      "• Bourou Village [E] | Koseki Village [N]\n",
      "• Jakotsu Mine | Bourou Village [E]\n",
      "• Koseki Village [N] | Tatarasuna [N]\n",
      "• Tatarasuna [N] | Araumi\n",
      "\n",
      "~~~~~~~~~~~~~~~~~~~~~~~~~~~~~~~~~ NPC Analysis ~~~~~~~~~~~~~~~~~~~~~~~~~~~~~~~~\n",
      "npc_a: {2,5} -> {2,5} -> 6 -> 4 -> 3 -> 1\n",
      "npc_b: 7 -> {8,10} -> {8,10} -> 12 -> 11 -> 9\n",
      "npc_c: 18 -> 17 -> 16 -> 13 -> 14 -> 15\n",
      "npc_d: 23 -> 24 -> 25 -> {19,21} -> {19,21} -> 20 -> 22\n"
     ]
    }
   ],
   "source": [
    "nation: str = \"Inazuma\"\n",
    "mom.print_full_analysis(nation, json_data, sort=\"probability\")"
   ]
  },
  {
   "cell_type": "markdown",
   "metadata": {},
   "source": [
    "## Sumeru\n",
    "\n",
    "<!---\n",
    "##### Search Strategy\n",
    "\n",
    "##### NPCs:\n",
    "| Type       | Name     | Locations                  | Conditions                                                                                 |\n",
    "|------------|----------|----------------------------|--------------------------------------------------------------------------------------------|\n",
    "| Blacksmith | Ahangar  |                            |                                                                                            |\n",
    "| NPC A      | Anand    | $a$ -> $b$ -> $c$ -> $d$   | $a\\in\\{9,10\\}$, $b\\in\\{8,9,10\\}$, $c\\in\\{8,10,11\\}$, $d\\in\\{8,11\\}$, $a\\neq b\\neq c\\neq d$ |\n",
    "| NPC B      | Izad     | $x_i$ -> $x_i$ -> $x_i$    | $x_i\\in\\{18,19,24\\},\\ x_i\\neq x_{i+1}$                                                     |\n",
    "| NPC C      | Ma'asudi | 13 -> 15 -> 16 -> 14 -> 23 |                                                                                            |\n",
    "| NPC D      | Kazim    | 29 -> 28 -> 27 -> 30 -> 26 |                                                                                            |\n",
    "-->"
   ]
  },
  {
   "cell_type": "code",
   "execution_count": 13,
   "metadata": {},
   "outputs": [
    {
     "name": "stdout",
     "output_type": "stream",
     "text": [
      "~~~~~~~~~~~~~~~~~~~~~~~~~~~~~ Sumeru Full Analysis ~~~~~~~~~~~~~~~~~~~~~~~~~~~~\n",
      "Size of data: 60\n",
      "\n",
      "~~~~~~~~~~~~~~~~~~~~~~~~ Ley Line Pairing Probabilities ~~~~~~~~~~~~~~~~~~~~~~~\n",
      "|               Wealth               |             Revelation             | Probability |\n",
      "|------------------------------------+------------------------------------+-------------|\n",
      "| Aaru Village [NW]                  | Valley of Dahri                    | 18.33%      |\n",
      "| Dunes of Steel [W]                 | Samdura Coast [SE]                 | 15.00%      |\n",
      "| Port Ormos [NW]                    | Apam Woods [N]                     | 13.33%      |\n",
      "| Samdura Coast [SE]                 | The Palace of Alcazarzaray [SE]    | 13.33%      |\n",
      "| Valley of Dahri                    | The Mausoleum of King Deshret [NW] | 11.67%      |\n",
      "| Paradis Dhyai [N]                  | Aaru Village [NW]                  | 8.33%       |\n",
      "| Safhe Shatranj [NW]                | Dunes of Steel [W]                 | 8.33%       |\n",
      "| The Mausoleum of King Deshret [NW] | Safhe Shatranj [NW]                | 8.33%       |\n",
      "| Apam Woods [N]                     | Paradis Dhyai [N]                  | 3.33%       |\n",
      "\n",
      "~~~~~~~~~~~~~~~~~~~~~~ Ley Line Mining Location Analysis ~~~~~~~~~~~~~~~~~~~~~~\n",
      "• Aaru Village [NW] | Valley of Dahri\n",
      "• Apam Woods [N] | Paradis Dhyai [N]\n",
      "• Dunes of Steel [W] | Samdura Coast [SE]\n",
      "• Paradis Dhyai [N] | Aaru Village [NW]\n",
      "• Port Ormos [NW] | Apam Woods [N]\n",
      "• Safhe Shatranj [NW] | Dunes of Steel [W]\n",
      "• Samdura Coast [SE] | The Palace of Alcazarzaray [SE]\n",
      "• The Mausoleum of King Deshret [NW] | Safhe Shatranj [NW]\n",
      "• Valley of Dahri | The Mausoleum of King Deshret [NW]\n",
      "\n",
      "~~~~~~~~~~~~~~~~~~~~~~~~~~~~~~~~~ NPC Analysis ~~~~~~~~~~~~~~~~~~~~~~~~~~~~~~~~\n",
      "npc_a: {10,12} -> {9,10,12} -> {8,9,10} -> {8,10,11} -> {8,11}\n",
      "npc_b: {18,19,20,24} -> {18,19,20,24} -> {18,19,20,24} -> {18,19,20,24}\n",
      "npc_c: {13,17} -> {13,15,17} -> {15,16,17} -> {14,16,17} -> {14,17} -> 23\n",
      "npc_d: 29 -> 28 -> 27 -> 30 -> 26\n"
     ]
    }
   ],
   "source": [
    "nation: str = \"Sumeru\"\n",
    "mom.print_full_analysis(nation, json_data, sort=\"probability\")"
   ]
  },
  {
   "cell_type": "markdown",
   "metadata": {},
   "source": [
    "## Fontaine\n",
    "\n",
    "<!---\n",
    "##### Search Strategy\n",
    "\n",
    "##### NPCs:\n",
    "| Type       | Name      | Locations            | Conditions                          |\n",
    "|------------|-----------|----------------------|-------------------------------------|\n",
    "| Blacksmith | Estelle   |                      |                                     |\n",
    "| NPC A      | Cheriez   | 1 -> 6               |                                     |\n",
    "| NPC B      | Hinterman | 2 -> 3               |                                     |\n",
    "| NPC C      | Cava      | 8 -> 7               |                                     |\n",
    "| NPC D      | Remande   | 4 -> 5 -> 9 -> 10    |                                     |\n",
    "| NPC E      | Damestier | 11 -> $x_i$ -> $x_i$ | $x_i\\in\\{12,13\\},\\ x_i\\neq x_{i+1}$ |\n",
    "| NPC F      | Conjat    | $x_i$ -> $x_i$ -> 16 | $x_i\\in\\{14,15\\},\\ x_i\\neq x_{i+1}$ |\n",
    "| NPC G      | Mermet    | 17 -> 18             |                                     |\n",
    "-->"
   ]
  },
  {
   "cell_type": "code",
   "execution_count": 14,
   "metadata": {},
   "outputs": [
    {
     "name": "stdout",
     "output_type": "stream",
     "text": [
      "~~~~~~~~~~~~~~~~~~~~~~~~~~~~ Fontaine Full Analysis ~~~~~~~~~~~~~~~~~~~~~~~~~~~\n",
      "Size of data: 58\n",
      "\n",
      "~~~~~~~~~~~~~~~~~~~~~~~~ Ley Line Pairing Probabilities ~~~~~~~~~~~~~~~~~~~~~~~\n",
      "|                Wealth               |              Revelation             | Probability |\n",
      "|-------------------------------------+-------------------------------------+-------------|\n",
      "| Mont Esus East                      | New Fontaine Research Institute [W] | 24.14%      |\n",
      "| West Slopes of Mont Automnequi [S]  | Mont Esus East                      | 24.14%      |\n",
      "| West Slopes of Mont Automnequi [E]  | Elynas [SE]                         | 17.24%      |\n",
      "| Elynas [SE]                         | West Slopes of Mont Automnequi [S]  | 13.79%      |\n",
      "| New Fontaine Research Institute [W] | Weeping Willow of the Lake [SE]     | 13.79%      |\n",
      "| Weeping Willow of the Lake [SE]     | West Slopes of Mont Automnequi [E]  | 6.90%       |\n",
      "\n",
      "~~~~~~~~~~~~~~~~~~~~~~ Ley Line Mining Location Analysis ~~~~~~~~~~~~~~~~~~~~~~\n",
      "• Elynas [SE] | West Slopes of Mont Automnequi [S]\n",
      "• Mont Esus East | New Fontaine Research Institute [W]\n",
      "• New Fontaine Research Institute [W] | Weeping Willow of the Lake [SE]\n",
      "• Weeping Willow of the Lake [SE] | West Slopes of Mont Automnequi [E]\n",
      "• West Slopes of Mont Automnequi [E] | Elynas [SE]\n",
      "• West Slopes of Mont Automnequi [S] | Mont Esus East\n",
      "\n",
      "~~~~~~~~~~~~~~~~~~~~~~~~~~~~~~~~~ NPC Analysis ~~~~~~~~~~~~~~~~~~~~~~~~~~~~~~~~\n",
      "npc_a: 1 -> 6\n",
      "npc_b: 2 -> 3\n",
      "npc_c: 8 -> 7\n",
      "npc_d: 4 -> 5 -> 9 -> 10\n",
      "npc_e: 11 -> {12,13} -> {12,13}\n",
      "npc_f: {14,15} -> {14,15} -> 16\n",
      "npc_g: 17 -> 18\n"
     ]
    }
   ],
   "source": [
    "nation: str = \"Fontaine\"\n",
    "mom.print_full_analysis(nation, json_data, sort=\"probability\")"
   ]
  },
  {
   "cell_type": "markdown",
   "metadata": {},
   "source": [
    "## Natlan\n",
    "\n",
    "<!---\n",
    "-->"
   ]
  },
  {
   "cell_type": "code",
   "execution_count": 15,
   "metadata": {},
   "outputs": [],
   "source": [
    "nation: str = \"Natlan\"\n",
    "mom.print_full_analysis(nation, json_data, sort=\"probability\")"
   ]
  },
  {
   "cell_type": "markdown",
   "metadata": {},
   "source": [
    "## Snezhnaya\n",
    "\n",
    "<!---\n",
    "-->"
   ]
  },
  {
   "cell_type": "code",
   "execution_count": 16,
   "metadata": {},
   "outputs": [],
   "source": [
    "nation: str = \"Snezhnaya\"\n",
    "mom.print_full_analysis(nation, json_data, sort=\"probability\")"
   ]
  }
 ],
 "metadata": {
  "kernelspec": {
   "display_name": ".venv",
   "language": "python",
   "name": "python3"
  },
  "language_info": {
   "codemirror_mode": {
    "name": "ipython",
    "version": 3
   },
   "file_extension": ".py",
   "mimetype": "text/x-python",
   "name": "python",
   "nbconvert_exporter": "python",
   "pygments_lexer": "ipython3",
   "version": "3.12.3"
  }
 },
 "nbformat": 4,
 "nbformat_minor": 2
}
